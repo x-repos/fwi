{
 "cells": [
  {
   "cell_type": "markdown",
   "id": "80876df1-63a7-4463-b0f0-6c6f4a01a633",
   "metadata": {},
   "source": [
    "# Introduction to JUDI\n",
    "\n",
    "JUDI is a framework for large-scale seismic modeling and inversion and designed to enable rapid translations of algorithms to fast and efficient code that scales to industry-size 3D problems. The focus of the package lies on seismic modeling as well as PDE-constrained optimization such as full-waveform inversion (FWI) and imaging (LS-RTM). Wave equations in JUDI are solved with [Devito](https://www.devitoproject.org), a Python domain-specific language for automated finite-difference (FD) computations. JUDI's modeling operators can also be used as layers in (convolutional) neural networks to implement physics-augmented deep learning algorithms. For this, check out JUDI's deep learning extension via [ChainRules.jl](https://github.com/JuliaDiff/ChainRules.jl) in [this tutorial](https://github.com/slimgroup/JUDI.jl/blob/master/examples/notebooks/06_automatic_differentiation.ipynb)."
   ]
  },
  {
   "cell_type": "code",
   "execution_count": null,
   "id": "ecc9b783-173a-4053-9652-f2d552303e67",
   "metadata": {},
   "outputs": [],
   "source": [
    "import Pkg; Pkg.add(\"PyPlot\")"
   ]
  },
  {
   "cell_type": "code",
   "execution_count": 1,
   "id": "2636a18c-9c84-441b-bf29-9a9100d4306d",
   "metadata": {},
   "outputs": [],
   "source": [
    "using JUDI, PyPlot, LinearAlgebra"
   ]
  },
  {
   "cell_type": "markdown",
   "id": "12f80fd3-f2b6-4601-ba04-8bae8baf39f4",
   "metadata": {},
   "source": [
    "# Physical problem setup\n",
    "## Grid\n",
    "JUDI relies on a cartesian grid for modeling and inversion. We start by defining the parameters needed for a cartesian grid:\n",
    " - A shape\n",
    " - A grid spacing in each direction\n",
    " - An origin"
   ]
  },
  {
   "cell_type": "code",
   "execution_count": 3,
   "id": "a3793e8a-4365-49fe-8101-c97f31d50bde",
   "metadata": {},
   "outputs": [
    {
     "data": {
      "text/plain": [
       "(0.0, 0.0)"
      ]
     },
     "execution_count": 3,
     "metadata": {},
     "output_type": "execute_result"
    }
   ],
   "source": [
    "shape = (201, 201) # Number of gridpoints nx, nz\n",
    "spacing = (10.0, 10.0) # #n meters here\n",
    "origin = (0.0, 0.0) # In meters as well"
   ]
  },
  {
   "cell_type": "markdown",
   "id": "74898307-bc6c-4617-9895-5704d2dbec76",
   "metadata": {},
   "source": [
    "## Physical object\n",
    "\n",
    "JUDI defines a few basic types to handle physical object such as the velocity model. The type `PhyisicalParameter` is an abstract vector and behaves as a standard vector.\n",
    "A `PhysicalParameter` can be constructed in various ways but always require the origin `o` and grid spacing `d` that\n",
    "cannot be infered from the array.\n",
    "\n",
    "    PhysicalParameter(v::Array{vDT}, d, o) where `v` is an n-dimensional array and n=size(v)\n",
    "\n",
    "    PhysicalParameter(n, d, o; vDT=Float32) Creates a zero PhysicalParameter\n",
    "\n",
    "    PhysicalParameter(v::Array{vDT}, A::PhysicalParameter) Creates a PhysicalParameter from the Array `v` with n, d, o from `A`\n",
    "\n",
    "    PhysicalParameter(v::Array{vDT, N}, n::Tuple, d::Tuple, o::Tuple) where `v` is a vector or nd-array that is reshaped into shape `n`\n",
    "\n",
    "    PhysicalParameter(v::vDT, n::Tuple, d::Tuple, o::Tuple) Creates a constant (single number) PhyicalParameter\n",
    "\n",
    "\n",
    "Let's make a simple three layer velocity model"
   ]
  },
  {
   "cell_type": "code",
   "execution_count": 4,
   "id": "6486e472-5190-4914-88ec-793b5e0f823d",
   "metadata": {},
   "outputs": [],
   "source": [
    "# Define the velocity (in km/sec=m/ms)\n",
    "vp = 1.5f0 * ones(Float32, shape)\n",
    "vp[:, 66:end] .= 2.0f0\n",
    "vp[:, 134:end] .= 2.5f0\n",
    "# Create a physical parameter\n",
    "VP = PhysicalParameter(vp, spacing, origin);"
   ]
  },
  {
   "cell_type": "markdown",
   "id": "c083c8a4-db03-4596-9aea-b835de15baf9",
   "metadata": {},
   "source": [
    "Let's plot the velocities. Because we adopt a standad cartesian dimension ordering for generality (X, Z) in 2D and (X, Y, Z) in 3D, we plot the transpose of the velocity for proper visualization."
   ]
  },
  {
   "cell_type": "code",
   "execution_count": 5,
   "id": "26b40f0a-1b43-4592-b07d-cd90212f1875",
   "metadata": {},
   "outputs": [
    {
     "data": {
      "image/png": "[encoded data removed]",
      "text/plain": [
       "Figure(PyObject <Figure size 640x480 with 2 Axes>)"
      ]
     },
     "metadata": {},
     "output_type": "display_data"
    },
    {
     "data": {
      "text/plain": [
       "PyObject Text(0.5, 1.0, 'vp as a physical parameter')"
      ]
     },
     "execution_count": 5,
     "metadata": {},
     "output_type": "execute_result"
    }
   ],
   "source": [
    "figure()\n",
    "subplot(121)\n",
    "imshow(vp', cmap=\"jet\")\n",
    "title(\"vp\")\n",
    "subplot(122)\n",
    "imshow(VP', cmap=\"jet\")\n",
    "title(\"vp as a physical parameter\")"
   ]
  },
  {
   "cell_type": "markdown",
   "id": "aca1f34c-a494-4611-a94f-cebdee138282",
   "metadata": {},
   "source": [
    "Because the physical parameter behaves as vector, we can easily perform standard operations on it."
   ]
  },
  {
   "cell_type": "code",
   "execution_count": 6,
   "id": "7ece40ee-87cb-4473-828b-3ff7f4df490a",
   "metadata": {},
   "outputs": [
    {
     "data": {
      "text/plain": [
       "(411.6956f0, (1.5f0, 2.5f0), PhysicalParameter{Float32, 2} of size (201, 201) with origin (0.0f0, 0.0f0) and spacing (10.0f0, 10.0f0), PhysicalParameter{Float32, 2} of size (201, 201) with origin (0.0f0, 0.0f0) and spacing (10.0f0, 10.0f0))"
      ]
     },
     "execution_count": 6,
     "metadata": {},
     "output_type": "execute_result"
    }
   ],
   "source": [
    "norm(VP), extrema(VP), 2f0 .* VP, VP .^ 2"
   ]
  },
  {
   "cell_type": "markdown",
   "id": "6cdf5f9b-8e82-470e-99e6-64212e427b8c",
   "metadata": {},
   "source": [
    "## Model\n",
    "\n",
    "JUDI then provide a `Model` structure that wraps multiple physical parameters toghether. A `Model` accept currently only accept standard Array as an input (**to be fixed #1**)"
   ]
  },
  {
   "cell_type": "code",
   "execution_count": 7,
   "id": "69bced00-3e2f-4b26-9b20-790a74321e8e",
   "metadata": {},
   "outputs": [
    {
     "data": {
      "text/plain": [
       "Model (n=(201, 201), d=(10.0f0, 10.0f0), o=(0.0f0, 0.0f0)) with parameters (:m, :rho)"
      ]
     },
     "execution_count": 7,
     "metadata": {},
     "output_type": "execute_result"
    }
   ],
   "source": [
    "model = Model(shape, spacing, origin, 1f0./vp.^2f0)"
   ]
  },
  {
   "cell_type": "code",
   "execution_count": 10,
   "id": "352d4dac-4e8f-49b0-8f87-c7e241ef20d7",
   "metadata": {},
   "outputs": [
    {
     "data": {
      "text/html": [
       "# 4 methods for generic function <b>Model</b> from \u001b[35mJUDI\u001b[39m:<ul><li> Model(n, d, o, m::<b>Array</b>; <i>kw...</i>) in JUDI at <a href=\"file:///Users/ben/.julia/packages/JUDI/BYqzP/src/TimeModeling/Types/ModelStructure.jl\" target=\"_blank\">/Users/ben/.julia/packages/JUDI/BYqzP/src/TimeModeling/Types/ModelStructure.jl:415</a></li> <li> Model(n, d, o, m::<b>Array</b>, rho::<b>Array</b>, qp::<b>Array</b>; <i>nb</i>) in JUDI at <a href=\"file:///Users/ben/.julia/packages/JUDI/BYqzP/src/TimeModeling/Types/ModelStructure.jl\" target=\"_blank\">/Users/ben/.julia/packages/JUDI/BYqzP/src/TimeModeling/Types/ModelStructure.jl:414</a></li> <li> Model(n, d, o, m::<b>Array</b>, rho::<b>Array</b>; <i>nb</i>) in JUDI at <a href=\"file:///Users/ben/.julia/packages/JUDI/BYqzP/src/TimeModeling/Types/ModelStructure.jl\" target=\"_blank\">/Users/ben/.julia/packages/JUDI/BYqzP/src/TimeModeling/Types/ModelStructure.jl:413</a></li> <li> Model(d, o, m::<b>Array{mT, N}</b>; <i>epsilon, delta, theta, phi, rho, qp, vs, nb</i>)<i> where {mT<:Real, N}</i> in JUDI at <a href=\"file:///Users/ben/.julia/packages/JUDI/BYqzP/src/TimeModeling/Types/ModelStructure.jl\" target=\"_blank\">/Users/ben/.julia/packages/JUDI/BYqzP/src/TimeModeling/Types/ModelStructure.jl:354</a></li> </ul>"
      ],
      "text/plain": [
       "# 4 methods for generic function \"Model\" from \u001b[35mJUDI\u001b[39m:\n",
       " [1] Model(\u001b[90mn\u001b[39m, \u001b[90md\u001b[39m, \u001b[90mo\u001b[39m, \u001b[90mm\u001b[39m::\u001b[1mArray\u001b[22m; kw...)\n",
       "\u001b[90m     @\u001b[39m \u001b[90m~/.julia/packages/JUDI/BYqzP/src/TimeModeling/Types/\u001b[39m\u001b[90m\u001b[4mModelStructure.jl:415\u001b[24m\u001b[39m\n",
       " [2] Model(\u001b[90mn\u001b[39m, \u001b[90md\u001b[39m, \u001b[90mo\u001b[39m, \u001b[90mm\u001b[39m::\u001b[1mArray\u001b[22m, \u001b[90mrho\u001b[39m::\u001b[1mArray\u001b[22m, \u001b[90mqp\u001b[39m::\u001b[1mArray\u001b[22m; nb)\n",
       "\u001b[90m     @\u001b[39m \u001b[90m~/.julia/packages/JUDI/BYqzP/src/TimeModeling/Types/\u001b[39m\u001b[90m\u001b[4mModelStructure.jl:414\u001b[24m\u001b[39m\n",
       " [3] Model(\u001b[90mn\u001b[39m, \u001b[90md\u001b[39m, \u001b[90mo\u001b[39m, \u001b[90mm\u001b[39m::\u001b[1mArray\u001b[22m, \u001b[90mrho\u001b[39m::\u001b[1mArray\u001b[22m; nb)\n",
       "\u001b[90m     @\u001b[39m \u001b[90m~/.julia/packages/JUDI/BYqzP/src/TimeModeling/Types/\u001b[39m\u001b[90m\u001b[4mModelStructure.jl:413\u001b[24m\u001b[39m\n",
       " [4] Model(\u001b[90md\u001b[39m, \u001b[90mo\u001b[39m, \u001b[90mm\u001b[39m::\u001b[1mArray\u001b[22m\u001b[0m{mT, N}; epsilon, delta, theta, phi, rho, qp, vs, nb) where {mT<:Real, N}\n",
       "\u001b[90m     @\u001b[39m \u001b[90m~/.julia/packages/JUDI/BYqzP/src/TimeModeling/Types/\u001b[39m\u001b[90m\u001b[4mModelStructure.jl:354\u001b[24m\u001b[39m"
      ]
     },
     "execution_count": 10,
     "metadata": {},
     "output_type": "execute_result"
    }
   ],
   "source": [
    "methods(Model)"
   ]
  },
  {
   "cell_type": "markdown",
   "id": "48dfa1d8-6d93-475b-afef-958e83762908",
   "metadata": {},
   "source": [
    "# Modeling \n",
    "Now that we have a seismic model, we will generate a few shot records."
   ]
  },
  {
   "cell_type": "markdown",
   "id": "8c08de3b-f7ce-4090-9fe9-ae270fce6440",
   "metadata": {},
   "source": [
    "## Acquisition Geometry\n",
    "The first thing we need is an acquisiton geometry. In JUDI there is two ways to create a Geometry.\n",
    "- By hand, as we will show here\n",
    "- From a SEGY file, as we will show in a follow-up tutorial\n",
    "\n",
    "We create a split-spread geomtry with sources at the top and receivers at the ocean bottom (top of second layer).\n",
    "\n",
    "**Note**:\n",
    "- JUDI currently expects all three coordinates to be inputed to setup a Geometry in 2D as well. This will be fixed in a later version of JUDI."
   ]
  },
  {
   "cell_type": "code",
   "execution_count": 27,
   "id": "5b2c1272-b649-4ea6-877e-92118a42d078",
   "metadata": {},
   "outputs": [],
   "source": [
    "# Sources position\n",
    "nsrc = 11\n",
    "xsrc = range(0f0, (shape[1] -1)*spacing[1], length=nsrc)\n",
    "ysrc = 0f0 .* xsrc # this a 2D case so we set y to zero\n",
    "zsrc = 12.5f0*ones(Float32, nsrc);"
   ]
  },
  {
   "cell_type": "markdown",
   "id": "e6e4073f-1d03-4b2b-bbab-b56e84357fcb",
   "metadata": {},
   "source": [
    "Now this definition creates a single Array of position, which would correspond to a single Simultenous source. Since we are interested in single source experiments here, we convert these position into an Array of Array\n",
    "of size `nsrc` where each sub-array is a single source position"
   ]
  },
  {
   "cell_type": "code",
   "execution_count": 28,
   "id": "ea4cd712-4cc4-480a-b02d-b1f45c89f69e",
   "metadata": {},
   "outputs": [],
   "source": [
    "xsrc, ysrc, zsrc = convertToCell.([xsrc, ysrc, zsrc]);"
   ]
  },
  {
   "cell_type": "code",
   "execution_count": 29,
   "id": "d3ccab24-6ab8-4ec7-a4ac-62021d7eab7c",
   "metadata": {},
   "outputs": [],
   "source": [
    "# OBN position\n",
    "nrec = 101\n",
    "xrec = range(0f0, (shape[1] -1)*spacing[1], length=nrec)\n",
    "yrec = 0f0 # this a 2D case so we set y to zero. This can be a single number for receivers\n",
    "zrec = (66*spacing[1])*ones(Float32, nrec);"
   ]
  },
  {
   "cell_type": "markdown",
   "id": "105bacbb-d685-4d3d-97dd-5580ffc06d93",
   "metadata": {},
   "source": [
    "The last step to be able to create and acquisiton geometry is to define a recording time and sampling rate"
   ]
  },
  {
   "cell_type": "code",
   "execution_count": 30,
   "id": "8b2c80ec-0b91-4513-b789-d2e8991acaf9",
   "metadata": {},
   "outputs": [],
   "source": [
    "record_time = 4000f0 # Recording time in ms (since we have m/ms for the velocity)\n",
    "sampling_rate = 4f0; # Let's use a standard 4ms sampling rate"
   ]
  },
  {
   "cell_type": "markdown",
   "id": "bf5ddb3f-4eec-4956-b1b0-e6b5612e1716",
   "metadata": {},
   "source": [
    "Now we can create the source and receivers geometry"
   ]
  },
  {
   "cell_type": "code",
   "execution_count": 31,
   "id": "75aa846d-5954-460c-8057-0cd517f2ba2f",
   "metadata": {},
   "outputs": [],
   "source": [
    "src_geom = Geometry(xsrc, ysrc, zsrc; dt=sampling_rate, t=record_time)\n",
    "# For the receiver geometry, we specify the number of source to tell JUDI to use the same receiver position for all sources\n",
    "rec_geom = Geometry(xrec, yrec, zrec, dt=sampling_rate, t=record_time, nsrc=nsrc);"
   ]
  },
  {
   "cell_type": "markdown",
   "id": "25b2e789-00b5-463f-b925-6db1742432d3",
   "metadata": {},
   "source": [
    "Let's visualize the geometry onto the model"
   ]
  },
  {
   "cell_type": "code",
   "execution_count": 32,
   "id": "55be2797-b091-4a0c-bba1-96ae9ff94f32",
   "metadata": {},
   "outputs": [
    {
     "data": {
      "image/png": "[encoded data removed]",
      "text/plain": [
       "Figure(PyObject <Figure size 640x480 with 1 Axes>)"
      ]
     },
     "metadata": {},
     "output_type": "display_data"
    },
    {
     "data": {
      "text/plain": [
       "PyObject <matplotlib.legend.Legend object at 0x145f5a9c0>"
      ]
     },
     "execution_count": 32,
     "metadata": {},
     "output_type": "execute_result"
    }
   ],
   "source": [
    "figure();\n",
    "imshow(vp', cmap=\"jet\", extent=[0, (shape[1]-1)*spacing[1], (shape[2]-1)*spacing[2], 0])\n",
    "scatter(xsrc, zsrc, label=:sources)\n",
    "scatter(xrec, zrec, label=\"OBN\")\n",
    "legend()"
   ]
  },
  {
   "cell_type": "markdown",
   "id": "43b0f36a-40b8-4779-b34b-ccddce851e55",
   "metadata": {},
   "source": [
    "### Source wavelet\n",
    "For the source wavelet, we will use a standard Ricker wavelet at 10Hz for this tutorial.In practice this wavelet would be read from a file or estimated during inversion. "
   ]
  },
  {
   "cell_type": "code",
   "execution_count": 33,
   "id": "caec6e31-d2ef-4b50-8290-eddc0618f86f",
   "metadata": {},
   "outputs": [
    {
     "data": {
      "image/png": "[encoded data removed]",
      "text/plain": [
       "Figure(PyObject <Figure size 640x480 with 1 Axes>)"
      ]
     },
     "metadata": {},
     "output_type": "display_data"
    },
    {
     "data": {
      "text/plain": [
       "1-element Vector{PyCall.PyObject}:\n",
       " PyObject <matplotlib.lines.Line2D object at 0x13de32db0>"
      ]
     },
     "execution_count": 33,
     "metadata": {},
     "output_type": "execute_result"
    }
   ],
   "source": [
    "f0 = 0.010 # Since we use ms, the frequency is in KHz\n",
    "wavelet = ricker_wavelet(record_time, sampling_rate, f0);\n",
    "plot(wavelet)"
   ]
  },
  {
   "cell_type": "markdown",
   "id": "1d93189c-018a-4f6f-8885-248a7cf14491",
   "metadata": {},
   "source": [
    "## judiVector\n",
    "\n",
    "In order to represent seismic data, JUDI provide the `judiVector` type. This type wraps a geometry with the seismic data corresponding to it. Let's cretae one for the source"
   ]
  },
  {
   "cell_type": "code",
   "execution_count": 34,
   "id": "69ee9620-fbf5-4327-bfc5-2cd1147a1f83",
   "metadata": {},
   "outputs": [
    {
     "data": {
      "text/plain": [
       "judiVector{Float32, Matrix{Float32}} with 11 sources\n"
      ]
     },
     "execution_count": 34,
     "metadata": {},
     "output_type": "execute_result"
    }
   ],
   "source": [
    "q = judiVector(src_geom, wavelet)"
   ]
  },
  {
   "cell_type": "markdown",
   "id": "27a84c86-3ec1-4215-bf50-d1304e653685",
   "metadata": {},
   "source": [
    "# Linear operator\n",
    "The last step to model our seismic data os to create the linear operator representing the discretized wave equation on the Model we defined. We also need to define the linear operator corresponding to the source injection and the receiver interpolation."
   ]
  },
  {
   "cell_type": "code",
   "execution_count": 35,
   "id": "1736c26c-ab85-40c2-800b-a81e3b2fd83a",
   "metadata": {},
   "outputs": [
    {
     "data": {
      "text/plain": [
       "JUDI forward{Float32} propagator (x * z * time) -> (x * z * time)"
      ]
     },
     "execution_count": 35,
     "metadata": {},
     "output_type": "execute_result"
    }
   ],
   "source": [
    "Pr = judiProjection(rec_geom) # receiver interpolation\n",
    "Ps = judiProjection(src_geom) # Source interpolation\n",
    "Ainv = judiModeling(model) # Inverse of the disrete ewave equation."
   ]
  },
  {
   "cell_type": "markdown",
   "id": "2c8a63ce-475c-4511-958d-de74c682b5e8",
   "metadata": {},
   "source": [
    "**WARNING**\n",
    "While these three operator are well defined in JUDI, `judiProjection` is a no-op operator and cannot be used by itself but only in combination with a `judiModeling` operator"
   ]
  },
  {
   "cell_type": "markdown",
   "id": "f4496383-2c07-4de0-866a-335dd1183435",
   "metadata": {},
   "source": [
    "# Seismic data\n",
    "\n",
    "Now that we have all our operators setup we can finally generate synthetic data wit ha simple mat-vec product thanks to the abstraction"
   ]
  },
  {
   "cell_type": "code",
   "execution_count": 36,
   "id": "af5cae07-5ca5-4798-9b76-8779d71c6461",
   "metadata": {},
   "outputs": [
    {
     "ename": "LoadError",
     "evalue": "ArgumentError: ref of NULL PyObject",
     "output_type": "error",
     "traceback": [
      "ArgumentError: ref of NULL PyObject",
      "",
      "Stacktrace:",
      "  [1] _getproperty(o::PyCall.PyObject, s::Symbol)",
      "    @ PyCall ~/.julia/packages/PyCall/1gn3u/src/PyCall.jl:299",
      "  [2] __getproperty",
      "    @ ~/.julia/packages/PyCall/1gn3u/src/PyCall.jl:312 [inlined]",
      "  [3] getproperty",
      "    @ ~/.julia/packages/PyCall/1gn3u/src/PyCall.jl:318 [inlined]",
      "  [4] _time_modeling(model_full::JUDI.IsoModel{Float32, 2}, srcGeometry::GeometryIC{Float32}, srcData::Matrix{Float32}, recGeometry::GeometryIC{Float32}, recData::Nothing, dm::Nothing, op::Symbol, options::JUDIOptions, fw::Bool, illum::Bool)",
      "    @ JUDI ~/.julia/packages/JUDI/BYqzP/src/TimeModeling/Modeling/time_modeling_serial.jl:14",
      "  [5] (::Base.var\"#96#98\"{Base.var\"#96#97#99\"{ExponentialBackOff, Nothing, typeof(JUDI._time_modeling)}})(::JUDI.IsoModel{Float32, 2}, ::Vararg{Any}; kwargs::@Kwargs{})",
      "    @ Base ./error.jl:308",
      "  [6] (::Base.var\"#96#98\"{Base.var\"#96#97#99\"{ExponentialBackOff, Nothing, typeof(JUDI._time_modeling)}})(::JUDI.IsoModel{Float32, 2}, ::Vararg{Any})",
      "    @ Base ./error.jl:291",
      "  [7] propagate(F::judiDataSourceModeling{Float32, :forward}, q::judiVector{Float32, Matrix{Float32}}, illum::Bool)",
      "    @ JUDI ~/.julia/packages/JUDI/BYqzP/src/TimeModeling/Modeling/propagation.jl:9",
      "  [8] macro expansion",
      "    @ ~/.julia/packages/JUDI/BYqzP/src/TimeModeling/Modeling/propagation.jl:38 [inlined]",
      "  [9] macro expansion",
      "    @ ./timing.jl:395 [inlined]",
      " [10] macro expansion",
      "    @ ~/.julia/packages/JUDI/BYqzP/src/JUDI.jl:148 [inlined]",
      " [11] run_and_reduce(func::Function, ::Nothing, nsrc::Int64, arg_func::JUDI.var\"#324#325\"{judiDataSourceModeling{Float32, :forward}, judiVector{Float32, Matrix{Float32}}, Bool}; kw::Nothing)",
      "    @ JUDI ~/.julia/packages/JUDI/BYqzP/src/TimeModeling/Modeling/propagation.jl:36",
      " [12] run_and_reduce(func::Function, ::Nothing, nsrc::Int64, arg_func::Function)",
      "    @ JUDI ~/.julia/packages/JUDI/BYqzP/src/TimeModeling/Modeling/propagation.jl:35",
      " [13] multi_src_propagate(F::judiDataSourceModeling{Float32, :forward}, q::judiVector{Float32, Matrix{Float32}})",
      "    @ JUDI ~/.julia/packages/JUDI/BYqzP/src/TimeModeling/Modeling/propagation.jl:79",
      " [14] *",
      "    @ ~/.julia/packages/JUDI/BYqzP/src/TimeModeling/LinearOperators/operators.jl:174 [inlined]",
      " [15] afoldl",
      "    @ ./operators.jl:544 [inlined]",
      " [16] *(a::judiProjection{Float32}, b::judiModeling{Float32, :forward, JUDI.IsoModel{Float32, 2}}, c::JUDI.jAdjoint{judiProjection{Float32}}, xs::judiVector{Float32, Matrix{Float32}})",
      "    @ Base ./operators.jl:587",
      " [17] top-level scope",
      "    @ In[36]:1"
     ]
    }
   ],
   "source": [
    "d_obs = Pr * Ainv * Ps' * q"
   ]
  },
  {
   "cell_type": "code",
   "execution_count": 37,
   "id": "c42b8a8d-8c83-4ab4-bbf8-793e8dadb383",
   "metadata": {},
   "outputs": [
    {
     "ename": "LoadError",
     "evalue": "UndefVarError: `d_obs` not defined",
     "output_type": "error",
     "traceback": [
      "UndefVarError: `d_obs` not defined",
      "",
      "Stacktrace:",
      " [1] top-level scope",
      "   @ ./In[37]:5"
     ]
    }
   ],
   "source": [
    "data_extent = [xrec[1], xrec[end], 1f-3*record_time, 0]\n",
    "figure(figsize=(20, 5))\n",
    "for i=1:5\n",
    "    subplot(1, 5, i)\n",
    "    imshow(d_obs.data[2*i], vmin=-1, vmax=1, cmap=\"Greys\", extent=data_extent, aspect=\"auto\")\n",
    "    xlabel(\"Receiver position (m)\")\n",
    "    ylabel(\"Recording time (s)\")\n",
    "    title(\"xsrc=$(1f-3xsrc[2*i][1])km\")\n",
    "end\n",
    "tight_layout()"
   ]
  }
 ],
 "metadata": {
  "kernelspec": {
   "display_name": "Julia 1.10.5",
   "language": "julia",
   "name": "julia-1.10"
  },
  "language_info": {
   "file_extension": ".jl",
   "mimetype": "application/julia",
   "name": "julia",
   "version": "1.10.5"
  }
 },
 "nbformat": 4,
 "nbformat_minor": 5
}
