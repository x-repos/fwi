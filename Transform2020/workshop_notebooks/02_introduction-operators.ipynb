{
 "cells": [
  {
   "cell_type": "markdown",
   "metadata": {},
   "source": [
    "# Introduction (part 2): `Operator` `apply` and `arguments`\n",
    "\n",
    "\n",
    "## Goals\n",
    "\n",
    "- Describe two fundamental user APIs:\n",
    "    * `Operator.apply`\n",
    "    * `Operator.arguments`\n",
    "- Describe the `Data` objects associated with functions\n",
    "- Investigate how these `Data` objects are updated during time loops\n",
    "\n",
    "We will use a trivial `Operator` that, at each time step, increments by 1 all points in the physical domain."
   ]
  },
  {
   "cell_type": "code",
   "execution_count": 1,
   "metadata": {},
   "outputs": [],
   "source": [
    "from devito import Grid, TimeFunction, Eq, Operator\n",
    "\n",
    "grid = Grid(shape=(4, 4))\n",
    "u = TimeFunction(name='u', grid=grid, save=3)\n",
    "update = Eq(u.forward, u + 1)\n",
    "op = Operator(update)"
   ]
  },
  {
   "cell_type": "markdown",
   "metadata": {},
   "source": [
    "To run `op`, we have to \"`apply`\" it."
   ]
  },
  {
   "cell_type": "code",
   "execution_count": 2,
   "metadata": {},
   "outputs": [
    {
     "name": "stderr",
     "output_type": "stream",
     "text": [
      "Operator `Kernel` ran in 0.01 s\n"
     ]
    }
   ],
   "source": [
    "#NBVAL_IGNORE_OUTPUT\n",
    "summary = op.apply()"
   ]
  },
  {
   "cell_type": "markdown",
   "metadata": {},
   "source": [
    "Under-the-hood, some code has been generated (`print(op)` to display the generated code), JIT-compiled, and executed. Since no additional arguments have been passed, `op` has used `u` as input. We can verify that the content of `u.data` is as expected"
   ]
  },
  {
   "cell_type": "code",
   "execution_count": 3,
   "metadata": {},
   "outputs": [
    {
     "data": {
      "text/plain": [
       "((time, x, y), (3, 4, 4))"
      ]
     },
     "execution_count": 3,
     "metadata": {},
     "output_type": "execute_result"
    }
   ],
   "source": [
    "u.dimensions, u.shape\n",
    "# 3 = save parameters"
   ]
  },
  {
   "cell_type": "code",
   "execution_count": 4,
   "metadata": {},
   "outputs": [
    {
     "data": {
      "text/plain": [
       "Data([[[0., 0., 0., 0.],\n",
       "       [0., 0., 0., 0.],\n",
       "       [0., 0., 0., 0.],\n",
       "       [0., 0., 0., 0.]],\n",
       "\n",
       "      [[1., 1., 1., 1.],\n",
       "       [1., 1., 1., 1.],\n",
       "       [1., 1., 1., 1.],\n",
       "       [1., 1., 1., 1.]],\n",
       "\n",
       "      [[2., 2., 2., 2.],\n",
       "       [2., 2., 2., 2.],\n",
       "       [2., 2., 2., 2.],\n",
       "       [2., 2., 2., 2.]]], dtype=float32)"
      ]
     },
     "execution_count": 4,
     "metadata": {},
     "output_type": "execute_result"
    }
   ],
   "source": [
    "u.data"
   ]
  },
  {
   "cell_type": "markdown",
   "metadata": {},
   "source": [
    "In particular, we observe that:\n",
    "\n",
    "* `u` has size 3 along the time dimension, since it was built with `save=3`. Therefore `op` could only execute 2 timesteps, namely time=0 and time=1; given `Eq(u.forward, u + 1)`, executing time=2 would cause out-of-bounds access errors. Devito figures this out automatically and sets appropriate minimum and maximum iteration points.\n",
    "* All 16 points in each timeslice of the 4x4 `Grid` have been computed.\n",
    "\n",
    "To access all default arguments used by `op` *without* running the `Operator`, one can run"
   ]
  },
  {
   "cell_type": "code",
   "execution_count": 5,
   "metadata": {},
   "outputs": [
    {
     "data": {
      "text/plain": [
       "{'u': <cparam 'P' (0x11995fe30)>,\n",
       " 'time_m': 0,\n",
       " 'time_size': 3,\n",
       " 'time_M': 1,\n",
       " 'x_m': 0,\n",
       " 'x_size': 4,\n",
       " 'x_M': 3,\n",
       " 'y_m': 0,\n",
       " 'y_size': 4,\n",
       " 'y_M': 3,\n",
       " 'h_x': 0.33333334,\n",
       " 'h_y': 0.33333334,\n",
       " 'o_x': 0.0,\n",
       " 'o_y': 0.0,\n",
       " 'timers': <cparam 'P' (0x1199b7a20)>}"
      ]
     },
     "execution_count": 5,
     "metadata": {},
     "output_type": "execute_result"
    }
   ],
   "source": [
    "#NBVAL_IGNORE_OUTPUT\n",
    "op.arguments()"
   ]
  },
  {
   "cell_type": "code",
   "execution_count": 6,
   "metadata": {},
   "outputs": [],
   "source": [
    "# time_m: first time\n",
    "# time_size: size of the ojbect \n",
    "# time_M: final\n",
    "# x_m: first node in x dimension\n",
    "# x_size: size in x dimension\n",
    "# x_m:final value of x"
   ]
  },
  {
   "cell_type": "markdown",
   "metadata": {},
   "source": [
    "`'u'` stores a pointer to the allocated data; `'timers'` stores a pointer to a data structure used for C-level performance profiling.\n",
    "\n",
    "One may want to replace some of these default arguments. For example, we could increase the minimum iteration point along the spatial Dimensions `x` and `y`, and execute only the very first timestep:"
   ]
  },
  {
   "cell_type": "code",
   "execution_count": 7,
   "metadata": {},
   "outputs": [
    {
     "name": "stderr",
     "output_type": "stream",
     "text": [
      "Operator `Kernel` ran in 0.01 s\n"
     ]
    }
   ],
   "source": [
    "#NBVAL_IGNORE_OUTPUT\n",
    "u.data[:] = 0.  # Explicit reset to initial value\n",
    "summary = op.apply(x_m=2, y_m=2, time_M=0)"
   ]
  },
  {
   "cell_type": "markdown",
   "metadata": {},
   "source": [
    "We look again at the computed data to convince ourselves that everything went as intended to go"
   ]
  },
  {
   "cell_type": "code",
   "execution_count": 8,
   "metadata": {},
   "outputs": [
    {
     "data": {
      "text/plain": [
       "Data([[[0., 0., 0., 0.],\n",
       "       [0., 0., 0., 0.],\n",
       "       [0., 0., 0., 0.],\n",
       "       [0., 0., 0., 0.]],\n",
       "\n",
       "      [[0., 0., 0., 0.],\n",
       "       [0., 0., 0., 0.],\n",
       "       [0., 0., 1., 1.],\n",
       "       [0., 0., 1., 1.]],\n",
       "\n",
       "      [[0., 0., 0., 0.],\n",
       "       [0., 0., 0., 0.],\n",
       "       [0., 0., 0., 0.],\n",
       "       [0., 0., 0., 0.]]], dtype=float32)"
      ]
     },
     "execution_count": 8,
     "metadata": {},
     "output_type": "execute_result"
    }
   ],
   "source": [
    "u.data"
   ]
  },
  {
   "cell_type": "markdown",
   "metadata": {},
   "source": [
    "Given a generic `Dimension` `d`, the naming convention is such that:\n",
    "\n",
    "* `d_m` is the minimum iteration point\n",
    "* `d_M` is the maximum iteration point\n",
    "\n",
    "Hence, `op.apply(..., d_m=4, d_M=7, ...)` will run `op` in the compact interval `[4, 7]` along `d`. For historical reasons, `d=...` aliases to `d_M=...`; in many Devito examples it happens to see `op.apply(..., time=10, ...)` -- this is just equivalent to `op.apply(..., time_M=10, ...)`.\n",
    "\n",
    "If we try to specify an invalid iteration extreme, Devito will raise an exception."
   ]
  },
  {
   "cell_type": "code",
   "execution_count": 9,
   "metadata": {},
   "outputs": [
    {
     "name": "stdout",
     "output_type": "stream",
     "text": [
      "OOB detected due to time_M=2\n"
     ]
    }
   ],
   "source": [
    "from devito.exceptions import InvalidArgument\n",
    "try:\n",
    "    op.apply(time_M=2)\n",
    "except InvalidArgument as e:\n",
    "    print(e)"
   ]
  },
  {
   "cell_type": "markdown",
   "metadata": {},
   "source": [
    "The same `Operator` can be applied to a different `TimeFunction`. For example:"
   ]
  },
  {
   "cell_type": "code",
   "execution_count": 10,
   "metadata": {},
   "outputs": [
    {
     "name": "stderr",
     "output_type": "stream",
     "text": [
      "Operator `Kernel` ran in 0.01 s\n"
     ]
    }
   ],
   "source": [
    "#NBVAL_IGNORE_OUTPUT\n",
    "u2 = TimeFunction(name='u', grid=grid, save=5)\n",
    "summary = op.apply(u=u2)"
   ]
  },
  {
   "cell_type": "code",
   "execution_count": 11,
   "metadata": {},
   "outputs": [
    {
     "data": {
      "text/plain": [
       "Data([[[0., 0., 0., 0.],\n",
       "       [0., 0., 0., 0.],\n",
       "       [0., 0., 0., 0.],\n",
       "       [0., 0., 0., 0.]],\n",
       "\n",
       "      [[1., 1., 1., 1.],\n",
       "       [1., 1., 1., 1.],\n",
       "       [1., 1., 1., 1.],\n",
       "       [1., 1., 1., 1.]],\n",
       "\n",
       "      [[2., 2., 2., 2.],\n",
       "       [2., 2., 2., 2.],\n",
       "       [2., 2., 2., 2.],\n",
       "       [2., 2., 2., 2.]],\n",
       "\n",
       "      [[3., 3., 3., 3.],\n",
       "       [3., 3., 3., 3.],\n",
       "       [3., 3., 3., 3.],\n",
       "       [3., 3., 3., 3.]],\n",
       "\n",
       "      [[4., 4., 4., 4.],\n",
       "       [4., 4., 4., 4.],\n",
       "       [4., 4., 4., 4.],\n",
       "       [4., 4., 4., 4.]]], dtype=float32)"
      ]
     },
     "execution_count": 11,
     "metadata": {},
     "output_type": "execute_result"
    }
   ],
   "source": [
    "u2.data"
   ]
  },
  {
   "cell_type": "markdown",
   "metadata": {},
   "source": [
    "Note that this was the third call to `op.apply`, but code generation and JIT-compilation only occurred upon the very first call.\n",
    "\n",
    "There is one relevant case in which the maximum iteration point along the time dimension must be specified -- whenever `save` is unset, as in such a case the `Operator` wouldn't know for how many iterations to run."
   ]
  },
  {
   "cell_type": "code",
   "execution_count": 12,
   "metadata": {},
   "outputs": [
    {
     "name": "stdout",
     "output_type": "stream",
     "text": [
      "No value found for parameter time_M\n"
     ]
    }
   ],
   "source": [
    "v = TimeFunction(name='v', grid=grid)\n",
    "op2 = Operator(Eq(v.forward, v + 1))\n",
    "try:\n",
    "    op2.apply()\n",
    "except ValueError as e:\n",
    "    print(e)"
   ]
  },
  {
   "cell_type": "code",
   "execution_count": 13,
   "metadata": {},
   "outputs": [
    {
     "name": "stderr",
     "output_type": "stream",
     "text": [
      "Operator `Kernel` ran in 0.01 s\n"
     ]
    }
   ],
   "source": [
    "#NBVAL_IGNORE_OUTPUT\n",
    "summary = op2.apply(time_M=4)"
   ]
  },
  {
   "cell_type": "code",
   "execution_count": 14,
   "metadata": {},
   "outputs": [
    {
     "data": {
      "text/plain": [
       "Data([[[4., 4., 4., 4.],\n",
       "       [4., 4., 4., 4.],\n",
       "       [4., 4., 4., 4.],\n",
       "       [4., 4., 4., 4.]],\n",
       "\n",
       "      [[5., 5., 5., 5.],\n",
       "       [5., 5., 5., 5.],\n",
       "       [5., 5., 5., 5.],\n",
       "       [5., 5., 5., 5.]]], dtype=float32)"
      ]
     },
     "execution_count": 14,
     "metadata": {},
     "output_type": "execute_result"
    }
   ],
   "source": [
    "v.data"
   ]
  },
  {
   "cell_type": "markdown",
   "metadata": {},
   "source": [
    "The `summary` variable can be inspected to retrieve performance metrics."
   ]
  },
  {
   "cell_type": "code",
   "execution_count": 15,
   "metadata": {},
   "outputs": [
    {
     "data": {
      "text/plain": [
       "PerformanceSummary([(PerfKey(name='section0', rank=None),\n",
       "                     PerfEntry(time=1e-06, gflopss=0.0, gpointss=0.0, oi=0.0, ops=0, itershapes=[]))])"
      ]
     },
     "execution_count": 15,
     "metadata": {},
     "output_type": "execute_result"
    }
   ],
   "source": [
    "#NBVAL_IGNORE_OUTPUT\n",
    "summary"
   ]
  },
  {
   "cell_type": "markdown",
   "metadata": {},
   "source": [
    "We observe that basically all entries except for the execution time are fixed at 0. This is because by default Devito avoids to compute performance metrics, to minimize the processing time before returning control to the user (in complex `Operators`, the processing time to retrieve, for instance, the operation count or the memory footprint could be significant). To compute all performance metrics, a user could either export the environment variable `DEVITO_PROFILING` to `'advanced'` or change the profiling level programmatically *before* the `Operator` is constructed"
   ]
  },
  {
   "cell_type": "code",
   "execution_count": 16,
   "metadata": {},
   "outputs": [
    {
     "name": "stderr",
     "output_type": "stream",
     "text": [
      "Operator `Kernel` ran in 0.01 s\n"
     ]
    },
    {
     "data": {
      "text/plain": [
       "PerformanceSummary([(PerfKey(name='section0', rank=None),\n",
       "                     PerfEntry(time=1e-06, gflopss=0.064, gpointss=0.032, oi=0.16666666666666666, ops=2, itershapes=((2, 4, 4),)))])"
      ]
     },
     "execution_count": 16,
     "metadata": {},
     "output_type": "execute_result"
    }
   ],
   "source": [
    "#NBVAL_IGNORE_OUTPUT\n",
    "from devito import configuration\n",
    "configuration['profiling'] = 'advanced'\n",
    "\n",
    "op = Operator(Eq(u.forward, u*u + 1.))\n",
    "op.apply()"
   ]
  },
  {
   "cell_type": "markdown",
   "metadata": {},
   "source": [
    "A `PerformanceSummary` will contain as many entries as \"sections\" in the generated code. Currently, there is no way to automatically tie a compiler-generated section to the user-provided `Eq`s (in general, there can be more than one `Eq` in a section). The only option is to look at the generated code and search for bodies of code wrapped within C comments such as\n",
    "```\n",
    "/* Begin section0 */\n",
    "<code>\n",
    "/* End section0 \\*/\"\n",
    "```\n",
    "For example"
   ]
  },
  {
   "cell_type": "code",
   "execution_count": 17,
   "metadata": {},
   "outputs": [],
   "source": [
    "# Uncomment me and search for /* Begin section0 */ ... /* End section0 */\n",
    "# print(op)"
   ]
  },
  {
   "cell_type": "code",
   "execution_count": 18,
   "metadata": {},
   "outputs": [],
   "source": [
    "from numpy import sin, cos, pi, linspace, shape, zeros, mod\n",
    "\n",
    "import matplotlib.pyplot as plt\n",
    "\n",
    "# Global constants\n",
    "L = 10. # Define length of domain as a global variable\n",
    "N = 2000 # Number of terms in the Fourier sine series\n",
    "l = 1001 # Define number of points in domain\n",
    "c = 1.0 # Speed of sound\n",
    "dt = 0.004 # (dt < 0.42*dx/c)\n",
    "\n",
    "x = linspace(0, L, l) # x axis for calling u(x, t) at given t\n",
    "\n",
    "# Calculate exact solution\n",
    "\n",
    "def u_e(x, t):\n",
    "    s = zeros(x.size)\n",
    "    for i in range(1,N+1):\n",
    "        s+=A_n(i)*sin(i*pi*x/L)*cos(i*pi*c*t/L)\n",
    "    return s\n",
    "\n",
    "def A_n(n):\n",
    "    const = 2/n/pi*(cos(4*n*pi/L)-cos(6*n*pi/L))\n",
    "    return const\n",
    "\n",
    "\n",
    "from devito import TimeFunction, Grid, Eq, solve\n",
    "\n",
    "grid = Grid(shape=l, extent=L)\n",
    "t_s = grid.stepping_dim\n",
    "u = TimeFunction(grid=grid, time_order=2, space_order=2, name='u')\n",
    "pde = Eq(1/c**2 * u.dt2 - u.dx2, 0)\n",
    "stencil = solve(pde, u.forward)\n",
    "update = Eq(u.forward, stencil)\n",
    "\n",
    "u.data[0] = u_e(x, 0)\n",
    "u.data[1] = u_e(x, dt)\n",
    "\n",
    "# boundary\n",
    "\n",
    "bc = [Eq(u[t_s+1, 0], 0)]\n",
    "bc = bc + [Eq(u[t_s+1, -1], 0)]\n",
    "\n",
    "op = Operator([update]+ bc)"
   ]
  },
  {
   "cell_type": "code",
   "execution_count": 19,
   "metadata": {},
   "outputs": [
    {
     "name": "stderr",
     "output_type": "stream",
     "text": [
      "Operator `Kernel` ran in 0.01 s\n"
     ]
    },
    {
     "data": {
      "text/plain": [
       "PerformanceSummary([(PerfKey(name='section0', rank=None),\n",
       "                     PerfEntry(time=0.001478999999999978, gflopss=40.60039756592352, gpointss=3.383366463826961, oi=1.496410289228296, ops=12, itershapes=((4999, 1001),)))])"
      ]
     },
     "execution_count": 19,
     "metadata": {},
     "output_type": "execute_result"
    }
   ],
   "source": [
    "op.apply(dt=dt, time=4999)"
   ]
  },
  {
   "cell_type": "code",
   "execution_count": 20,
   "metadata": {},
   "outputs": [
    {
     "name": "stderr",
     "output_type": "stream",
     "text": [
      "Operator `Kernel` ran in 0.01 s\n"
     ]
    },
    {
     "data": {
      "text/plain": [
       "PerformanceSummary([(PerfKey(name='section0', rank=None),\n",
       "                     PerfEntry(time=0.0017129999999999687, gflopss=35.05428371278523, gpointss=2.9211903093987694, oi=1.496410289228296, ops=12, itershapes=((4999, 1001),)))])"
      ]
     },
     "execution_count": 20,
     "metadata": {},
     "output_type": "execute_result"
    }
   ],
   "source": [
    "op(dt=dt, time_M=4999)"
   ]
  },
  {
   "cell_type": "code",
   "execution_count": 21,
   "metadata": {},
   "outputs": [
    {
     "data": {
      "image/png": "[encoded data removed]",
      "text/plain": [
       "<Figure size 640x480 with 1 Axes>"
      ]
     },
     "metadata": {},
     "output_type": "display_data"
    }
   ],
   "source": [
    "%matplotlib inline\n",
    "# Lets plot some Devito results:\n",
    "plt.plot(x, u.data[mod(5000,3), :])\n",
    "plt.xlabel('x')\n",
    "plt.ylabel('u(x,t)')\n",
    "plt.show()"
   ]
  },
  {
   "cell_type": "markdown",
   "metadata": {},
   "source": [
    "In the `PerformanceSummary`, associated to `section0` is a `PerfEntry`, whose entries represent:\n",
    "\n",
    "* time: The time, in seconds, to execute the section.\n",
    "* gflopss: Performance of the section in Gigaflops per second.\n",
    "* gpointss: Performance of the section in Gigapoints per second.\n",
    "* oi: Operational intensity.\n",
    "* ops: Floating point operations at each (innermost loop) iteration.\n",
    "* itershape: The shape of the iteration space."
   ]
  },
  {
   "cell_type": "markdown",
   "metadata": {},
   "source": [
    "# Excersie: Comparison against exact solution\n",
    "\n",
    "Consider the following boundary value problem for the 1D wave equation:\n",
    "\n",
    "\\begin{align}\n",
    "  \\frac{1}{c^2}\\frac{\\partial^2 u}{\\partial t^2}(x,t)-\\frac{\\partial^2 u}{\\partial x^2}(x,t)&=0, \\\\\n",
    "  u(0,t)=u(10,t)&= 0, \\\\\n",
    "  \\frac{\\partial u}{\\partial t}(x,0)&=0, \\\\\n",
    "  u(x,0)&=\n",
    "    \\begin{cases}\n",
    "      0, & 0 \\leq x < 4,\\\\\n",
    "      1, & 4 \\leq x \\leq 6,\\\\\n",
    "      0, & 6 < x \\leq 10.\n",
    "    \\end{cases}\n",
    "\\end{align}\n",
    "\n",
    "The initial state is illustrated in the figure below:"
   ]
  },
  {
   "cell_type": "markdown",
   "metadata": {},
   "source": [
    "<img src=\"figures/exact_solution.png\" width=\"450\" height=\"450\" align=\"center\"/>"
   ]
  },
  {
   "cell_type": "markdown",
   "metadata": {},
   "source": [
    "It can be shown that the analytical solution to this problem is:\n",
    "\\begin{equation}\n",
    " u(x,t)=\\sum_{n=1}^{\\infty}A_{n}\\sin\\left(\\frac{n\\pi x}{10}\\right)\\cos\\left(\\frac{n\\pi ct}{10}\\right),\n",
    "\\end{equation}\n",
    "where\n",
    "\\begin{equation}\n",
    "  A_n=\\frac{2}{n\\pi}\\left[\\cos\\left(\\frac{4n\\pi}{10}\\right)-\\cos\\left(\\frac{6n\\pi}{10}\\right)\\right].\n",
    "\\end{equation}"
   ]
  },
  {
   "cell_type": "markdown",
   "metadata": {},
   "source": [
    "Below is a snippet of code to plot the exact result at any point in time. You can use it to explore the evolution of the wave:"
   ]
  },
  {
   "cell_type": "code",
   "execution_count": 22,
   "metadata": {},
   "outputs": [],
   "source": [
    "from numpy import sin, cos, pi, linspace, shape, zeros, mod\n",
    "\n",
    "import matplotlib.pyplot as plt\n",
    "\n",
    "# Global constants\n",
    "L = 10. # Define length of domain as a global variable\n",
    "N = 2000 # Number of terms in the Fourier sine series\n",
    "l = 1001 # Define number of points in domain\n",
    "c = 1.0 # Speed of sound\n",
    "\n",
    "x = linspace(0, L, l) # x axis for calling u(x, t) at given t\n",
    "\n",
    "# Calculate exact solution\n",
    "\n",
    "def u_e(x, t):\n",
    "    s = zeros(x.size)\n",
    "    for i in range(1,N+1):\n",
    "        s+=A_n(i)*sin(i*pi*x/L)*cos(i*pi*c*t/L)\n",
    "    return s\n",
    "\n",
    "def A_n(n):\n",
    "    const = 2/n/pi*(cos(4*n*pi/L)-cos(6*n*pi/L))\n",
    "    return const"
   ]
  },
  {
   "cell_type": "code",
   "execution_count": 23,
   "metadata": {},
   "outputs": [
    {
     "data": {
      "image/png": "[encoded data removed]",
      "text/plain": [
       "<Figure size 640x480 with 1 Axes>"
      ]
     },
     "metadata": {},
     "output_type": "display_data"
    }
   ],
   "source": [
    "%matplotlib inline\n",
    "# Plot solution at a point T in time\n",
    "T = 0\n",
    "plt.plot(x, u_e(x, T))\n",
    "plt.xlabel('x')\n",
    "plt.ylabel('u(x,0)')\n",
    "plt.show()"
   ]
  },
  {
   "cell_type": "markdown",
   "metadata": {},
   "source": [
    "How would you write a Devito code to compute the evolution in time of the wave?"
   ]
  },
  {
   "cell_type": "code",
   "execution_count": 24,
   "metadata": {},
   "outputs": [],
   "source": [
    "# Some hints:\n",
    "\n",
    "# Required imports\n",
    "from devito import Grid, TimeFunction, Eq, solve, Operator\n",
    "\n",
    "# Define the grid/computational domain\n",
    "grid = Grid(shape=(l), extent=(L))\n",
    "t_s = grid.stepping_dim\n",
    "\n",
    "# Wavefield\n",
    "u = TimeFunction(name='u', grid=grid, time_order=2, space_order=2)\n",
    "\n",
    "dx = abs(x[1]-x[0])\n",
    "# Critical time-step\n",
    "dt = 0.004 # (dt < 0.42*dx/c)\n",
    "\n",
    "# Set the initial conditions\n",
    "u0 = u_e(x, 0)\n",
    "u1 = u_e(x, dt)\n",
    "u.data[0,:] = u0\n",
    "u.data[1,:] = u1\n",
    "\n",
    "# Boundary conditions can be defined by additional equations:\n",
    "bc = [Eq(u[t_s+1, 0], 0)]\n",
    "bc += [Eq(u[t_s+1, -1], 0)]\n",
    "\n",
    "# Note -- Boundary conditions can be added to an operator as follows:\n",
    "# op = Operator([eq]+bc)"
   ]
  },
  {
   "cell_type": "markdown",
   "metadata": {},
   "source": [
    "See `nb2_exercise.ipynb` in additional the `additional_material` folder for a working solution."
   ]
  }
 ],
 "metadata": {
  "kernelspec": {
   "display_name": "Python 3",
   "language": "python",
   "name": "python3"
  },
  "language_info": {
   "codemirror_mode": {
    "name": "ipython",
    "version": 3
   },
   "file_extension": ".py",
   "mimetype": "text/x-python",
   "name": "python",
   "nbconvert_exporter": "python",
   "pygments_lexer": "ipython3",
   "version": "3.12.4"
  }
 },
 "nbformat": 4,
 "nbformat_minor": 2
}
