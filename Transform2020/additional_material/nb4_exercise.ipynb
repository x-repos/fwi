{
 "cells": [
  {
   "cell_type": "markdown",
   "metadata": {},
   "source": [
    "# 04 Notebook exercise:\n",
    "\n",
    "Let us utilize `SubDomain`s to write an `Operator` to produce the following result in a sinlge iteration:\n",
    "```\n",
    "f.data = Data([[0., 0., 0., 0., 0., 0., 0., 0., 0., 0.],\n",
    "               [0., 1., 1., 1., 1., 3., 3., 3., 3., 0.],\n",
    "               [0., 1., 1., 1., 1., 3., 3., 3., 3., 0.],\n",
    "               [0., 1., 1., 1., 1., 3., 3., 3., 3., 0.],\n",
    "               [0., 1., 1., 1., 1., 3., 3., 3., 3., 0.],\n",
    "               [0., 2., 2., 2., 2., 4., 4., 4., 4., 0.],\n",
    "               [0., 2., 2., 2., 2., 4., 4., 4., 4., 0.],\n",
    "               [0., 2., 2., 2., 2., 4., 4., 4., 4., 0.],\n",
    "               [0., 2., 2., 2., 2., 4., 4., 4., 4., 0.],\n",
    "               [0., 0., 0., 0., 0., 0., 0., 0., 3., 0.]], dtype=float32)\n",
    "```"
   ]
  },
  {
   "cell_type": "code",
   "execution_count": 1,
   "metadata": {},
   "outputs": [
    {
     "name": "stderr",
     "output_type": "stream",
     "text": [
      "Operator `Kernel` run in 0.01 s\n"
     ]
    },
    {
     "data": {
      "text/plain": [
       "PerformanceSummary([(PerfKey(name='section0', rank=None),\n",
       "                     PerfEntry(time=1e-06, gflopss=0.0, gpointss=0.0, oi=0.0, ops=0, itershapes=[]))])"
      ]
     },
     "execution_count": 1,
     "metadata": {},
     "output_type": "execute_result"
    }
   ],
   "source": [
    "# Devito code:\n",
    "from devito import *\n",
    "\n",
    "# Define 4 subdomains:\n",
    "class TopLeft(SubDomain):\n",
    "    name = 'topleft'\n",
    "    def define(self, dimensions):\n",
    "        x, y = dimensions\n",
    "        return {x: ('middle', 1, 5), y: ('middle', 1, 5)}\n",
    "tl = TopLeft()\n",
    "\n",
    "class TopRight(SubDomain):\n",
    "    name = 'topright'\n",
    "    def define(self, dimensions):\n",
    "        x, y = dimensions\n",
    "        return {x: ('middle', 1, 5), y: ('middle', 5, 1)}\n",
    "tr = TopRight()\n",
    "\n",
    "class BottomLeft(SubDomain):\n",
    "    name = 'bottomleft'\n",
    "    def define(self, dimensions):\n",
    "        x, y = dimensions\n",
    "        return {x: ('middle', 5, 1), y: ('middle', 1, 5)}\n",
    "bl = BottomLeft()\n",
    "\n",
    "class BottomRight(SubDomain):\n",
    "    name = 'bottomright'\n",
    "    def define(self, dimensions):\n",
    "        x, y = dimensions\n",
    "        return {x: ('middle', 5, 1), y: ('middle', 5, 1)}\n",
    "br = BottomRight()\n",
    "\n",
    "grid = Grid(shape = (10, 10), subdomains = (tl, tr, bl, br))\n",
    "f = Function(name = 'f', grid = grid)\n",
    "\n",
    "eq1 = Eq(f, f+1, subdomain = grid.subdomains['topleft'])\n",
    "eq2 = Eq(f, f+3, subdomain = grid.subdomains['topright'])\n",
    "eq3 = Eq(f, f+2, subdomain = grid.subdomains['bottomleft'])\n",
    "eq4 = Eq(f, f+4, subdomain = grid.subdomains['bottomright'])\n",
    "\n",
    "Operator([eq1, eq2, eq3, eq4])()"
   ]
  },
  {
   "cell_type": "code",
   "execution_count": 2,
   "metadata": {},
   "outputs": [
    {
     "data": {
      "text/plain": [
       "Data([[0., 0., 0., 0., 0., 0., 0., 0., 0., 0.],\n",
       "      [0., 1., 1., 1., 1., 3., 3., 3., 3., 0.],\n",
       "      [0., 1., 1., 1., 1., 3., 3., 3., 3., 0.],\n",
       "      [0., 1., 1., 1., 1., 3., 3., 3., 3., 0.],\n",
       "      [0., 1., 1., 1., 1., 3., 3., 3., 3., 0.],\n",
       "      [0., 2., 2., 2., 2., 4., 4., 4., 4., 0.],\n",
       "      [0., 2., 2., 2., 2., 4., 4., 4., 4., 0.],\n",
       "      [0., 2., 2., 2., 2., 4., 4., 4., 4., 0.],\n",
       "      [0., 2., 2., 2., 2., 4., 4., 4., 4., 0.],\n",
       "      [0., 0., 0., 0., 0., 0., 0., 0., 0., 0.]], dtype=float32)"
      ]
     },
     "execution_count": 2,
     "metadata": {},
     "output_type": "execute_result"
    }
   ],
   "source": [
    "# Lets check the result:\n",
    "f.data"
   ]
  }
 ],
 "metadata": {
  "kernelspec": {
   "display_name": "Python 3",
   "language": "python",
   "name": "python3"
  },
  "language_info": {
   "codemirror_mode": {
    "name": "ipython",
    "version": 3
   },
   "file_extension": ".py",
   "mimetype": "text/x-python",
   "name": "python",
   "nbconvert_exporter": "python",
   "pygments_lexer": "ipython3",
   "version": "3.8.2"
  }
 },
 "nbformat": 4,
 "nbformat_minor": 2
}
